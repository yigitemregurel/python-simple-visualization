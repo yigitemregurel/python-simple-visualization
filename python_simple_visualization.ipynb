{
 "cells": [
  {
   "cell_type": "code",
   "execution_count": 34,
   "id": "40e791d9",
   "metadata": {},
   "outputs": [
    {
     "name": "stdout",
     "output_type": "stream",
     "text": [
      "Requirement already satisfied: pandas in c:\\users\\acer\\anaconda3\\lib\\site-packages (1.3.4)\n",
      "Requirement already satisfied: pytz>=2017.3 in c:\\users\\acer\\anaconda3\\lib\\site-packages (from pandas) (2021.3)\n",
      "Requirement already satisfied: python-dateutil>=2.7.3 in c:\\users\\acer\\anaconda3\\lib\\site-packages (from pandas) (2.8.2)\n",
      "Requirement already satisfied: numpy>=1.17.3 in c:\\users\\acer\\anaconda3\\lib\\site-packages (from pandas) (1.20.3)\n",
      "Requirement already satisfied: six>=1.5 in c:\\users\\acer\\anaconda3\\lib\\site-packages (from python-dateutil>=2.7.3->pandas) (1.16.0)\n",
      "Note: you may need to restart the kernel to use updated packages.\n"
     ]
    }
   ],
   "source": [
    "pip install pandas"
   ]
  },
  {
   "cell_type": "code",
   "execution_count": 59,
   "id": "597f67a6",
   "metadata": {},
   "outputs": [],
   "source": [
    "import pandas as pd\n",
    "import numpy as np\n",
    "import matplotlib.pyplot as plt\n",
    "import seaborn as sns"
   ]
  },
  {
   "cell_type": "code",
   "execution_count": 60,
   "id": "f460cbe9",
   "metadata": {},
   "outputs": [],
   "source": [
    "from sklearn.model_selection import train_test_split \n",
    "from sklearn.preprocessing import StandardScaler\n",
    "from sklearn.preprocessing import MinMaxScaler \n",
    "from sklearn.preprocessing import LabelEncoder \n",
    "from sklearn.linear_model import LinearRegression \n",
    "from sklearn.metrics import r2_score\n",
    "from sklearn import metrics"
   ]
  },
  {
   "cell_type": "code",
   "execution_count": 61,
   "id": "871aaaf8",
   "metadata": {},
   "outputs": [],
   "source": [
    "df = pd.read_csv('C:\\\\Users\\\\Acer\\\\Desktop\\\\data.csv')"
   ]
  },
  {
   "cell_type": "code",
   "execution_count": 76,
   "id": "73361aa9",
   "metadata": {},
   "outputs": [
    {
     "data": {
      "text/html": [
       "<div>\n",
       "<style scoped>\n",
       "    .dataframe tbody tr th:only-of-type {\n",
       "        vertical-align: middle;\n",
       "    }\n",
       "\n",
       "    .dataframe tbody tr th {\n",
       "        vertical-align: top;\n",
       "    }\n",
       "\n",
       "    .dataframe thead th {\n",
       "        text-align: right;\n",
       "    }\n",
       "</style>\n",
       "<table border=\"1\" class=\"dataframe\">\n",
       "  <thead>\n",
       "    <tr style=\"text-align: right;\">\n",
       "      <th></th>\n",
       "      <th>price_in_aed</th>\n",
       "      <th>kilometers</th>\n",
       "      <th>mechanical_condition</th>\n",
       "      <th>seller_type</th>\n",
       "      <th>body_type</th>\n",
       "      <th>no_of_cylinders</th>\n",
       "      <th>transmission_type</th>\n",
       "      <th>regional_specs</th>\n",
       "      <th>horsepower</th>\n",
       "      <th>fuel_type</th>\n",
       "      <th>steering_side</th>\n",
       "      <th>year</th>\n",
       "      <th>color</th>\n",
       "      <th>emirate</th>\n",
       "      <th>motors_trim</th>\n",
       "      <th>company</th>\n",
       "      <th>model</th>\n",
       "    </tr>\n",
       "  </thead>\n",
       "  <tbody>\n",
       "    <tr>\n",
       "      <th>1</th>\n",
       "      <td>110000</td>\n",
       "      <td>39000</td>\n",
       "      <td>Perfect inside and out</td>\n",
       "      <td>Dealer</td>\n",
       "      <td>SUV</td>\n",
       "      <td>8</td>\n",
       "      <td>Automatic</td>\n",
       "      <td>North American Specs</td>\n",
       "      <td>400</td>\n",
       "      <td>Gasoline</td>\n",
       "      <td>Left</td>\n",
       "      <td>2018</td>\n",
       "      <td>White</td>\n",
       "      <td>Sharjah</td>\n",
       "      <td>1500 High Country</td>\n",
       "      <td>chevrolet</td>\n",
       "      <td>silverado</td>\n",
       "    </tr>\n",
       "    <tr>\n",
       "      <th>2</th>\n",
       "      <td>78000</td>\n",
       "      <td>200000</td>\n",
       "      <td>Perfect inside and out</td>\n",
       "      <td>Dealer</td>\n",
       "      <td>Sedan</td>\n",
       "      <td>6</td>\n",
       "      <td>Automatic</td>\n",
       "      <td>GCC Specs</td>\n",
       "      <td>400</td>\n",
       "      <td>Gasoline</td>\n",
       "      <td>Left</td>\n",
       "      <td>2014</td>\n",
       "      <td>Blue</td>\n",
       "      <td>Sharjah</td>\n",
       "      <td>E 300</td>\n",
       "      <td>mercedes-benz</td>\n",
       "      <td>e-class</td>\n",
       "    </tr>\n",
       "    <tr>\n",
       "      <th>3</th>\n",
       "      <td>899000</td>\n",
       "      <td>27000</td>\n",
       "      <td>Perfect inside and out</td>\n",
       "      <td>Dealer</td>\n",
       "      <td>Hard Top Convertible</td>\n",
       "      <td>8</td>\n",
       "      <td>Automatic</td>\n",
       "      <td>GCC Specs</td>\n",
       "      <td>600</td>\n",
       "      <td>Gasoline</td>\n",
       "      <td>Left</td>\n",
       "      <td>2018</td>\n",
       "      <td>Red</td>\n",
       "      <td>Dubai</td>\n",
       "      <td>Standard</td>\n",
       "      <td>ferrari</td>\n",
       "      <td>488-spider</td>\n",
       "    </tr>\n",
       "    <tr>\n",
       "      <th>4</th>\n",
       "      <td>33000</td>\n",
       "      <td>69000</td>\n",
       "      <td>Perfect inside and out</td>\n",
       "      <td>Owner</td>\n",
       "      <td>Wagon</td>\n",
       "      <td>4</td>\n",
       "      <td>Manual</td>\n",
       "      <td>GCC Specs</td>\n",
       "      <td>100</td>\n",
       "      <td>Gasoline</td>\n",
       "      <td>Left</td>\n",
       "      <td>2020</td>\n",
       "      <td>White</td>\n",
       "      <td>Dubai</td>\n",
       "      <td>Standard</td>\n",
       "      <td>renault</td>\n",
       "      <td>dokker</td>\n",
       "    </tr>\n",
       "    <tr>\n",
       "      <th>5</th>\n",
       "      <td>98000</td>\n",
       "      <td>84000</td>\n",
       "      <td>Perfect inside and out</td>\n",
       "      <td>Owner</td>\n",
       "      <td>Sedan</td>\n",
       "      <td>6</td>\n",
       "      <td>Automatic</td>\n",
       "      <td>GCC Specs</td>\n",
       "      <td>200</td>\n",
       "      <td>Gasoline</td>\n",
       "      <td>Left</td>\n",
       "      <td>2015</td>\n",
       "      <td>Gold</td>\n",
       "      <td>Dubai</td>\n",
       "      <td>S-line</td>\n",
       "      <td>audi</td>\n",
       "      <td>a7</td>\n",
       "    </tr>\n",
       "    <tr>\n",
       "      <th>...</th>\n",
       "      <td>...</td>\n",
       "      <td>...</td>\n",
       "      <td>...</td>\n",
       "      <td>...</td>\n",
       "      <td>...</td>\n",
       "      <td>...</td>\n",
       "      <td>...</td>\n",
       "      <td>...</td>\n",
       "      <td>...</td>\n",
       "      <td>...</td>\n",
       "      <td>...</td>\n",
       "      <td>...</td>\n",
       "      <td>...</td>\n",
       "      <td>...</td>\n",
       "      <td>...</td>\n",
       "      <td>...</td>\n",
       "      <td>...</td>\n",
       "    </tr>\n",
       "    <tr>\n",
       "      <th>9964</th>\n",
       "      <td>225000</td>\n",
       "      <td>0</td>\n",
       "      <td>Perfect inside and out</td>\n",
       "      <td>Dealer</td>\n",
       "      <td>SUV</td>\n",
       "      <td>6</td>\n",
       "      <td>Automatic</td>\n",
       "      <td>GCC Specs</td>\n",
       "      <td>200</td>\n",
       "      <td>Gasoline</td>\n",
       "      <td>Left</td>\n",
       "      <td>2021</td>\n",
       "      <td>White</td>\n",
       "      <td>Dubai</td>\n",
       "      <td>Limited</td>\n",
       "      <td>jeep</td>\n",
       "      <td>grand-cherokee</td>\n",
       "    </tr>\n",
       "    <tr>\n",
       "      <th>9965</th>\n",
       "      <td>215000</td>\n",
       "      <td>105777</td>\n",
       "      <td>Perfect inside and out</td>\n",
       "      <td>Dealer</td>\n",
       "      <td>SUV</td>\n",
       "      <td>8</td>\n",
       "      <td>Automatic</td>\n",
       "      <td>GCC Specs</td>\n",
       "      <td>500</td>\n",
       "      <td>Gasoline</td>\n",
       "      <td>Left</td>\n",
       "      <td>2015</td>\n",
       "      <td>White</td>\n",
       "      <td>Dubai</td>\n",
       "      <td>Autobiography</td>\n",
       "      <td>land-rover</td>\n",
       "      <td>range-rover</td>\n",
       "    </tr>\n",
       "    <tr>\n",
       "      <th>9966</th>\n",
       "      <td>90000</td>\n",
       "      <td>55640</td>\n",
       "      <td>Perfect inside and out</td>\n",
       "      <td>Owner</td>\n",
       "      <td>SUV</td>\n",
       "      <td>8</td>\n",
       "      <td>Automatic</td>\n",
       "      <td>GCC Specs</td>\n",
       "      <td>400</td>\n",
       "      <td>Gasoline</td>\n",
       "      <td>Left</td>\n",
       "      <td>2014</td>\n",
       "      <td>White</td>\n",
       "      <td>Dubai</td>\n",
       "      <td>Platinum</td>\n",
       "      <td>cadillac</td>\n",
       "      <td>escalade</td>\n",
       "    </tr>\n",
       "    <tr>\n",
       "      <th>9968</th>\n",
       "      <td>18900</td>\n",
       "      <td>140000</td>\n",
       "      <td>Perfect inside and out</td>\n",
       "      <td>Owner</td>\n",
       "      <td>Sedan</td>\n",
       "      <td>4</td>\n",
       "      <td>Automatic</td>\n",
       "      <td>GCC Specs</td>\n",
       "      <td>150</td>\n",
       "      <td>Gasoline</td>\n",
       "      <td>Left</td>\n",
       "      <td>2013</td>\n",
       "      <td>White</td>\n",
       "      <td>Dubai</td>\n",
       "      <td>LS</td>\n",
       "      <td>chevrolet</td>\n",
       "      <td>malibu</td>\n",
       "    </tr>\n",
       "    <tr>\n",
       "      <th>9969</th>\n",
       "      <td>77700</td>\n",
       "      <td>86000</td>\n",
       "      <td>Perfect inside and out</td>\n",
       "      <td>Dealer</td>\n",
       "      <td>Crossover</td>\n",
       "      <td>6</td>\n",
       "      <td>Manual</td>\n",
       "      <td>GCC Specs</td>\n",
       "      <td>200</td>\n",
       "      <td>Gasoline</td>\n",
       "      <td>Left</td>\n",
       "      <td>2013</td>\n",
       "      <td>Orange</td>\n",
       "      <td>Dubai</td>\n",
       "      <td>Sahara</td>\n",
       "      <td>jeep</td>\n",
       "      <td>wrangler</td>\n",
       "    </tr>\n",
       "  </tbody>\n",
       "</table>\n",
       "<p>8173 rows × 17 columns</p>\n",
       "</div>"
      ],
      "text/plain": [
       "      price_in_aed  kilometers    mechanical_condition seller_type  \\\n",
       "1           110000       39000  Perfect inside and out      Dealer   \n",
       "2            78000      200000  Perfect inside and out      Dealer   \n",
       "3           899000       27000  Perfect inside and out      Dealer   \n",
       "4            33000       69000  Perfect inside and out       Owner   \n",
       "5            98000       84000  Perfect inside and out       Owner   \n",
       "...            ...         ...                     ...         ...   \n",
       "9964        225000           0  Perfect inside and out      Dealer   \n",
       "9965        215000      105777  Perfect inside and out      Dealer   \n",
       "9966         90000       55640  Perfect inside and out       Owner   \n",
       "9968         18900      140000  Perfect inside and out       Owner   \n",
       "9969         77700       86000  Perfect inside and out      Dealer   \n",
       "\n",
       "                 body_type  no_of_cylinders transmission_type  \\\n",
       "1                      SUV                8         Automatic   \n",
       "2                    Sedan                6         Automatic   \n",
       "3     Hard Top Convertible                8         Automatic   \n",
       "4                    Wagon                4            Manual   \n",
       "5                    Sedan                6         Automatic   \n",
       "...                    ...              ...               ...   \n",
       "9964                   SUV                6         Automatic   \n",
       "9965                   SUV                8         Automatic   \n",
       "9966                   SUV                8         Automatic   \n",
       "9968                 Sedan                4         Automatic   \n",
       "9969             Crossover                6            Manual   \n",
       "\n",
       "            regional_specs  horsepower fuel_type steering_side  year   color  \\\n",
       "1     North American Specs         400  Gasoline          Left  2018   White   \n",
       "2                GCC Specs         400  Gasoline          Left  2014    Blue   \n",
       "3                GCC Specs         600  Gasoline          Left  2018     Red   \n",
       "4                GCC Specs         100  Gasoline          Left  2020   White   \n",
       "5                GCC Specs         200  Gasoline          Left  2015    Gold   \n",
       "...                    ...         ...       ...           ...   ...     ...   \n",
       "9964             GCC Specs         200  Gasoline          Left  2021   White   \n",
       "9965             GCC Specs         500  Gasoline          Left  2015   White   \n",
       "9966             GCC Specs         400  Gasoline          Left  2014   White   \n",
       "9968             GCC Specs         150  Gasoline          Left  2013   White   \n",
       "9969             GCC Specs         200  Gasoline          Left  2013  Orange   \n",
       "\n",
       "       emirate        motors_trim        company           model  \n",
       "1      Sharjah  1500 High Country      chevrolet       silverado  \n",
       "2      Sharjah              E 300  mercedes-benz         e-class  \n",
       "3        Dubai           Standard        ferrari      488-spider  \n",
       "4        Dubai           Standard        renault          dokker  \n",
       "5        Dubai             S-line           audi              a7  \n",
       "...        ...                ...            ...             ...  \n",
       "9964     Dubai            Limited           jeep  grand-cherokee  \n",
       "9965     Dubai      Autobiography     land-rover     range-rover  \n",
       "9966     Dubai           Platinum       cadillac        escalade  \n",
       "9968     Dubai                 LS      chevrolet          malibu  \n",
       "9969     Dubai             Sahara           jeep        wrangler  \n",
       "\n",
       "[8173 rows x 17 columns]"
      ]
     },
     "execution_count": 76,
     "metadata": {},
     "output_type": "execute_result"
    }
   ],
   "source": [
    "df"
   ]
  },
  {
   "cell_type": "code",
   "execution_count": 62,
   "id": "f0789fc6",
   "metadata": {},
   "outputs": [],
   "source": [
    "df = df[df['horsepower'] != 'Unknown']\n",
    "df = df[df['no_of_cylinders'] != 'Unknown']\n",
    "df = df[df['no_of_cylinders'] != 'None']"
   ]
  },
  {
   "cell_type": "code",
   "execution_count": 63,
   "id": "051c33f2",
   "metadata": {},
   "outputs": [],
   "source": [
    "df.dropna(inplace=True)"
   ]
  },
  {
   "cell_type": "code",
   "execution_count": 64,
   "id": "ac43c02d",
   "metadata": {},
   "outputs": [],
   "source": [
    "df[\"year\"] = pd.to_numeric(df[\"year\"])\n",
    "df['year'] = (df['year'].astype(int))\n",
    "df[\"no_of_cylinders\"] = pd.to_numeric(df[\"no_of_cylinders\"])"
   ]
  },
  {
   "cell_type": "code",
   "execution_count": 65,
   "id": "7c32ba9f",
   "metadata": {},
   "outputs": [],
   "source": [
    "df['price_in_aed'] = df['price_in_aed'].apply(lambda x: float(x.split()[0].replace(',', '')))\n",
    "df['horsepower'] = df['horsepower'].apply(lambda x: (x.split()[0]))"
   ]
  },
  {
   "cell_type": "code",
   "execution_count": 66,
   "id": "0c13d661",
   "metadata": {},
   "outputs": [],
   "source": [
    "df['horsepower'] = df['horsepower'].apply(lambda x: (x.split()[0]))\n",
    "df[\"horsepower\"].replace(\"Less\", \"100\", inplace=True, regex=True)\n",
    "df = df[df['horsepower'] != '900+']\n",
    "df[\"horsepower\"] = pd.to_numeric(df[\"horsepower\"])"
   ]
  },
  {
   "cell_type": "code",
   "execution_count": 67,
   "id": "12ddb0e0",
   "metadata": {},
   "outputs": [],
   "source": [
    "df.drop(columns=['title', 'date_posted', 'body_condition'], inplace=True)"
   ]
  },
  {
   "cell_type": "code",
   "execution_count": 68,
   "id": "7f0a1d89",
   "metadata": {},
   "outputs": [],
   "source": [
    "df['price_in_aed'] = (df['price_in_aed'].astype(int))"
   ]
  },
  {
   "cell_type": "code",
   "execution_count": 69,
   "id": "e653e149",
   "metadata": {},
   "outputs": [],
   "source": [
    "df.transmission_type.replace(['Automatic Transmission','Manual Transmission'], ['Automatic', 'Manual'], inplace = True)\n",
    "df.steering_side.replace(['Left Hand Side','Right Hand Side'], ['Left', 'Right'], inplace = True)"
   ]
  },
  {
   "cell_type": "code",
   "execution_count": 71,
   "id": "6a5b7e58",
   "metadata": {},
   "outputs": [
    {
     "data": {
      "image/png": "[encoded data removed]",
      "text/plain": [
       "<Figure size 360x360 with 1 Axes>"
      ]
     },
     "metadata": {
      "needs_background": "light"
     },
     "output_type": "display_data"
    }
   ],
   "source": [
    "sns.lmplot(x = \"horsepower\", y = \"price_in_aed\", data = df);"
   ]
  },
  {
   "cell_type": "code",
   "execution_count": 72,
   "id": "ca2400b6",
   "metadata": {},
   "outputs": [
    {
     "data": {
      "image/png": "[encoded data removed]",
      "text/plain": [
       "<Figure size 360x360 with 1 Axes>"
      ]
     },
     "metadata": {
      "needs_background": "light"
     },
     "output_type": "display_data"
    }
   ],
   "source": [
    "sns.lmplot(x = \"year\", y = \"price_in_aed\", data = df);"
   ]
  },
  {
   "cell_type": "code",
   "execution_count": 73,
   "id": "c5cca4db",
   "metadata": {},
   "outputs": [
    {
     "data": {
      "image/png": "[encoded data removed]",
      "text/plain": [
       "<Figure size 360x360 with 1 Axes>"
      ]
     },
     "metadata": {
      "needs_background": "light"
     },
     "output_type": "display_data"
    }
   ],
   "source": [
    "sns.lmplot(x = \"no_of_cylinders\", y = \"price_in_aed\", data = df);"
   ]
  },
  {
   "cell_type": "code",
   "execution_count": 3,
   "id": "daebcb0f",
   "metadata": {},
   "outputs": [
    {
     "ename": "NameError",
     "evalue": "name 'sns' is not defined",
     "output_type": "error",
     "traceback": [
      "\u001b[1;31m---------------------------------------------------------------------------\u001b[0m",
      "\u001b[1;31mNameError\u001b[0m                                 Traceback (most recent call last)",
      "\u001b[1;32m~\\AppData\\Local\\Temp/ipykernel_2180/3481908109.py\u001b[0m in \u001b[0;36m<module>\u001b[1;34m\u001b[0m\n\u001b[1;32m----> 1\u001b[1;33m \u001b[0msns\u001b[0m\u001b[1;33m.\u001b[0m\u001b[0mjointplot\u001b[0m\u001b[1;33m(\u001b[0m\u001b[0mx\u001b[0m\u001b[1;33m=\u001b[0m\u001b[1;34m\"no_of_cylinders\"\u001b[0m\u001b[1;33m,\u001b[0m \u001b[0my\u001b[0m\u001b[1;33m=\u001b[0m\u001b[1;34m\"price_in_aed\"\u001b[0m\u001b[1;33m,\u001b[0m \u001b[0mdata\u001b[0m\u001b[1;33m=\u001b[0m\u001b[0mdf\u001b[0m\u001b[1;33m,\u001b[0m \u001b[0msize\u001b[0m\u001b[1;33m=\u001b[0m\u001b[1;36m5\u001b[0m\u001b[1;33m)\u001b[0m\u001b[1;33m\u001b[0m\u001b[1;33m\u001b[0m\u001b[0m\n\u001b[0m",
      "\u001b[1;31mNameError\u001b[0m: name 'sns' is not defined"
     ]
    }
   ],
   "source": [
    "sns.jointplot(x=\"no_of_cylinders\", y=\"price_in_aed\", data=df, size=5)"
   ]
  },
  {
   "cell_type": "code",
   "execution_count": null,
   "id": "1f00b6ca",
   "metadata": {},
   "outputs": [],
   "source": []
  },
  {
   "cell_type": "code",
   "execution_count": null,
   "id": "71c65741",
   "metadata": {},
   "outputs": [],
   "source": []
  },
  {
   "cell_type": "code",
   "execution_count": null,
   "id": "5cdf818f",
   "metadata": {},
   "outputs": [],
   "source": []
  }
 ],
 "metadata": {
  "kernelspec": {
   "display_name": "Python 3 (ipykernel)",
   "language": "python",
   "name": "python3"
  },
  "language_info": {
   "codemirror_mode": {
    "name": "ipython",
    "version": 3
   },
   "file_extension": ".py",
   "mimetype": "text/x-python",
   "name": "python",
   "nbconvert_exporter": "python",
   "pygments_lexer": "ipython3",
   "version": "3.9.7"
  }
 },
 "nbformat": 4,
 "nbformat_minor": 5
}
